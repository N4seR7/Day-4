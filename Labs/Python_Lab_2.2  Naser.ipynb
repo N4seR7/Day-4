{
 "cells": [
  {
   "cell_type": "markdown",
   "metadata": {
    "id": "E9Y5ss1ZYj3r"
   },
   "source": [
    "# Python_Lab_2.2\n"
   ]
  },
  {
   "cell_type": "markdown",
   "metadata": {
    "id": "Q1kAqc72Yj3t"
   },
   "source": [
    "### Task 1\n",
    "1. Write a program that prompts the user to enter two numbers and prints their division. Handle cases where the user enters non-numeric values or attempts to divide by zero using a try-except block.\n"
   ]
  },
  {
   "cell_type": "code",
   "execution_count": 2,
   "metadata": {
    "id": "H-xyoRTVYj3t"
   },
   "outputs": [
    {
     "name": "stdout",
     "output_type": "stream",
     "text": [
      "Error: Division by zero is not allowed.\n"
     ]
    }
   ],
   "source": [
    "# write your code here ^_^\n",
    "def div():\n",
    "    try:\n",
    "        \n",
    "        num1 = float(input(\"Enter the first number: \"))\n",
    "        num2 = float(input(\"Enter the second number: \"))\n",
    "        result = num1 / num2\n",
    "        print(f\"The result of dividing {num1} by {num2} is {result}\")\n",
    "\n",
    "    except ValueError:\n",
    "        print(\"Error: Please enter valid numeric values.\")\n",
    "\n",
    "    except ZeroDivisionError:\n",
    "        print(\"Error: Division by zero is not allowed.\")\n",
    "\n",
    "# Start\n",
    "div()\n"
   ]
  },
  {
   "cell_type": "markdown",
   "metadata": {
    "id": "CPWcDSC_Yj3u"
   },
   "source": [
    "### Task 2\n",
    "- Use \"Random\" library to do the following:\n",
    "    1. Create a list of random numbers using list comprehension.\n",
    "    2. Create a list of squares of the even numbers from random numbers using list comprehension.\n",
    "    3. Create a list of tuples (number, square) for random numbers using list comprehension."
   ]
  },
  {
   "cell_type": "code",
   "execution_count": 6,
   "metadata": {
    "id": "Yfq-i6CeYj3u"
   },
   "outputs": [
    {
     "name": "stdout",
     "output_type": "stream",
     "text": [
      "Random numbers: [25, 71, 82, 23, 23, 35, 83, 80, 62, 79]\n",
      "Squares of even numbers: [6724, 6400, 3844]\n",
      "Tuples of number and square: [(25, 625), (71, 5041), (82, 6724), (23, 529), (23, 529), (35, 1225), (83, 6889), (80, 6400), (62, 3844), (79, 6241)]\n"
     ]
    }
   ],
   "source": [
    "# write your code here ^_^\n",
    "import random\n",
    "\n",
    "def fun():\n",
    "    #step 1\n",
    "    random_numbers = [random.randint(1, 100) for _ in range(10)]\n",
    "    print(f\"Random numbers: {random_numbers}\")\n",
    "\n",
    "    #step 2\n",
    "    even_squares = [x**2 for x in random_numbers if x % 2 == 0]\n",
    "    print(f\"Squares of even numbers: {even_squares}\")\n",
    "\n",
    "    #step 3\n",
    "    number_square_tuples = [(x, x**2) for x in random_numbers]\n",
    "    print(f\"Tuples of number and square: {number_square_tuples}\")\n",
    "\n",
    "\n",
    "# main\n",
    "fun()\n"
   ]
  },
  {
   "cell_type": "markdown",
   "metadata": {
    "id": "jYdOq46NYj3u"
   },
   "source": [
    "### Task 3\n",
    "- Create a dictionary where the keys are numbers from 1 to 5 and the values are list of their squares and cubes.\n",
    "\n",
    "  - **hint**: use dictionary of list comprehension.\n",
    "\n",
    "- Create a dictionary from two lists (one with keys and one with values) using dictionary comprehension.\n",
    "\n"
   ]
  },
  {
   "cell_type": "code",
   "execution_count": 10,
   "metadata": {
    "id": "IEnsiNmCYj3u"
   },
   "outputs": [
    {
     "name": "stdout",
     "output_type": "stream",
     "text": [
      "Squares and cubes: {1: [1, 1], 2: [4, 8], 3: [9, 27], 4: [16, 64], 5: [25, 125]}\n",
      "Dictionary from lists: {'a': 1, 'b': 2, 'c': 3}\n"
     ]
    }
   ],
   "source": [
    "# write your code here ^_^\n",
    "\n",
    "# step 1\n",
    "squares_and_cubes = {x: [x**2, x**3] for x in range(1, 6)}\n",
    "print(f\"Squares and cubes: {squares_and_cubes}\")\n",
    "\n",
    "# step 2\n",
    "keys = ['a', 'b', 'c']\n",
    "values = [1, 2, 3]\n",
    "dict_from_lists = {keys[i]: values[i] for i in range(len(keys))}\n",
    "print(f\"Dictionary from lists: {dict_from_lists}\")\n"
   ]
  },
  {
   "cell_type": "markdown",
   "metadata": {
    "id": "6T9TCQ8SYj3v"
   },
   "source": [
    "### Task 4\n",
    "- Given a dictionary where keys are student names and values are lists of their scores, write a function that updates the scores of students who have achieved a perfect score (100) by adding a bonus of 5 points to each score. Use dictionary comprehension to achieve this.\n",
    "\n",
    "    - Implement the function add_bonus_to_perfect_scores(student_scores) that adds a bonus of 5 points to each score of students who have achieved a perfect score (100)."
   ]
  },
  {
   "cell_type": "code",
   "execution_count": 12,
   "metadata": {
    "id": "T3R_VsQpYj3v"
   },
   "outputs": [
    {
     "name": "stdout",
     "output_type": "stream",
     "text": [
      "Updated student scores: {'Alice': [105, 90, 85], 'Bob': [95, 105, 88], 'Charlie': [105, 105, 105], 'David': [80, 90, 105]}\n"
     ]
    }
   ],
   "source": [
    "# write your code here ^_^\n",
    "\n",
    "def add_bonus_to_perfect_scores(student_scores):\n",
    "    updated_scores = {\n",
    "        student: [score + 5 if score == 100 else score for score in scores]\n",
    "        for student, scores in student_scores.items()\n",
    "    }\n",
    "    return updated_scores\n",
    "\n",
    "\n",
    "student_scores = {\n",
    "    'Alice': [100, 90, 85],\n",
    "    'Bob': [95, 100, 88],\n",
    "    'Charlie': [100, 100, 100],\n",
    "    'David': [80, 90, 100]\n",
    "}\n",
    "\n",
    "updated_student_scores = add_bonus_to_perfect_scores(student_scores)\n",
    "print(f\"Updated student scores: {updated_student_scores}\")\n"
   ]
  },
  {
   "cell_type": "markdown",
   "metadata": {
    "id": "rJkOEFAwYj3v"
   },
   "source": []
  }
 ],
 "metadata": {
  "colab": {
   "provenance": []
  },
  "kernelspec": {
   "display_name": "Python 3",
   "language": "python",
   "name": "python3"
  },
  "language_info": {
   "codemirror_mode": {
    "name": "ipython",
    "version": 3
   },
   "file_extension": ".py",
   "mimetype": "text/x-python",
   "name": "python",
   "nbconvert_exporter": "python",
   "pygments_lexer": "ipython3",
   "version": "3.12.4"
  }
 },
 "nbformat": 4,
 "nbformat_minor": 0
}
